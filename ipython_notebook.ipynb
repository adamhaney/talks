{
 "metadata": {
  "name": "iPython Notebook Lunch Talk"
 },
 "nbformat": 3,
 "nbformat_minor": 0,
 "worksheets": [
  {
   "cells": [
    {
     "cell_type": "markdown",
     "metadata": {},
     "source": [
      "IPython Notebook\n",
      "================\n",
      "* first steps, writing code, outputing cells\n",
      "\n",
      "* fireplug, our architecture, how we do what we do (Postgres, Django)\n",
      "* simple layout of our schema\n",
      "* notebook viewer / cli exporter"
     ]
    },
    {
     "cell_type": "markdown",
     "metadata": {},
     "source": [
      "What is ipython notebook?\n",
      "-------------------------\n",
      "\n",
      "* A web based python IDE with built in data visualization and tools\n",
      "* a Read, Evaulate, Print, Loop style of writing code projects and building up code for one time reports, business intelligence answers, or experimentation\n",
      "* Google Docs for code experiments"
     ]
    },
    {
     "cell_type": "markdown",
     "metadata": {},
     "source": [
      "Installing iPython notebook\n",
      "---------------------------\n",
      "\n",
      "### Standard Install\n",
      "    pip install ipython tornado numpy matplotlib\n",
      "\n",
      "    # Start the python notebook on its own\n",
      "    ipython --notebook --pylab=inline\n",
      "\n",
      "### Installing as a part of Django\n",
      "\n",
      "    pip install django_extensions ipython tornado numpy matplotlib \n",
      "\n",
      "    # In settings.py for your Django project\n",
      "    INSTALLED_APPS += ('django_extensions',)\n",
      "\n",
      "    # Start up via manage.py\n",
      "    python manage.py shell_plus --notebook\n",
      "\n"
     ]
    },
    {
     "cell_type": "heading",
     "level": 2,
     "metadata": {},
     "source": [
      "First Steps"
     ]
    },
    {
     "cell_type": "heading",
     "level": 3,
     "metadata": {},
     "source": [
      "Executing Code"
     ]
    },
    {
     "cell_type": "code",
     "collapsed": false,
     "input": [
      "print \"Hello world\""
     ],
     "language": "python",
     "metadata": {},
     "outputs": [
      {
       "output_type": "stream",
       "stream": "stdout",
       "text": [
        "Hello world\n"
       ]
      }
     ],
     "prompt_number": 3
    },
    {
     "cell_type": "code",
     "collapsed": false,
     "input": [
      "number_line = [x for x in range(10)]"
     ],
     "language": "python",
     "metadata": {},
     "outputs": [],
     "prompt_number": 5
    },
    {
     "cell_type": "code",
     "collapsed": false,
     "input": [
      "print number_line"
     ],
     "language": "python",
     "metadata": {},
     "outputs": [
      {
       "output_type": "stream",
       "stream": "stdout",
       "text": [
        "[0, 1, 2, 3, 4, 5, 6, 7, 8, 9]\n"
       ]
      }
     ],
     "prompt_number": 6
    },
    {
     "cell_type": "heading",
     "level": 3,
     "metadata": {},
     "source": [
      "Using Python magic methods you can also access the shell"
     ]
    },
    {
     "cell_type": "code",
     "collapsed": false,
     "input": [
      "!pwd\n",
      "!ls"
     ],
     "language": "python",
     "metadata": {},
     "outputs": [
      {
       "output_type": "stream",
       "stream": "stdout",
       "text": [
        "/home/ubuntu/my-news-api\r\n"
       ]
      },
      {
       "output_type": "stream",
       "stream": "stdout",
       "text": [
        "circle.yml\t\t install.sh\t\t\t    manage.sh\t\t  newrelic.ini\t      requirements.txt\t       Travis - Email.ipynb    User and Engagement Stats.ipynb\r\n",
        "docs\t\t\t iPython Notebook Lunch Talk.ipynb  media_assets\t  raw_story_html      Story Experiments.ipynb  Uniquify Stories.ipynb  Username Migration.ipynb\r\n",
        "Facebook Pictures.ipynb  Lunch.ipynb\t\t\t    Missing Topics.ipynb  README.md\t      Subject Breakdown.ipynb  Update Email.ipynb      user_profiles\r\n",
        "icons\t\t\t manage.py\t\t\t    mynews\t\t  #requirements.txt#  Subjects Stats.ipynb     URL list.ipynb\t       venv\r\n"
       ]
      }
     ],
     "prompt_number": 1
    },
    {
     "cell_type": "code",
     "collapsed": false,
     "input": [
      "from pprint import pprint\n",
      "\n",
      "foo = !ls\n",
      "pprint(foo)"
     ],
     "language": "python",
     "metadata": {},
     "outputs": [
      {
       "output_type": "stream",
       "stream": "stdout",
       "text": [
        "['circle.yml',\n",
        " 'docs',\n",
        " 'Facebook Pictures.ipynb',\n",
        " 'icons',\n",
        " 'install.sh',\n",
        " 'iPython Notebook Lunch Talk.ipynb',\n",
        " 'Lunch.ipynb',\n",
        " 'manage.py',\n",
        " 'manage.sh',\n",
        " 'media_assets',\n",
        " 'Missing Topics.ipynb',\n",
        " 'mynews',\n",
        " 'newrelic.ini',\n",
        " 'raw_story_html',\n",
        " 'README.md',\n",
        " '#requirements.txt#',\n",
        " 'requirements.txt',\n",
        " 'Story Experiments.ipynb',\n",
        " 'Subject Breakdown.ipynb',\n",
        " 'Subjects Stats.ipynb',\n",
        " 'Travis - Email.ipynb',\n",
        " 'Uniquify Stories.ipynb',\n",
        " 'Update Email.ipynb',\n",
        " 'URL list.ipynb',\n",
        " 'User and Engagement Stats.ipynb',\n",
        " 'Username Migration.ipynb',\n",
        " 'user_profiles',\n",
        " 'venv']\n"
       ]
      }
     ],
     "prompt_number": 21
    },
    {
     "cell_type": "heading",
     "level": 3,
     "metadata": {},
     "source": [
      "Using Matplot Lib for visualizations"
     ]
    },
    {
     "cell_type": "code",
     "collapsed": true,
     "input": [
      "bar(range(3), [2, 5, 7])"
     ],
     "language": "python",
     "metadata": {},
     "outputs": [
      {
       "output_type": "pyout",
       "prompt_number": 14,
       "text": [
        "<Container object of 3 artists>"
       ]
      },
      {
       "output_type": "display_data",
       "png": "[encoded data removed]"
      }
     ],
     "prompt_number": 14
    },
    {
     "cell_type": "code",
     "collapsed": false,
     "input": [
      "plot(zip(number_line, [x**2 for x in range(10)], [x**3 for x in range(10)]))"
     ],
     "language": "python",
     "metadata": {},
     "outputs": [
      {
       "output_type": "pyout",
       "prompt_number": 19,
       "text": [
        "[<matplotlib.lines.Line2D at 0x3fe8cd0>,\n",
        " <matplotlib.lines.Line2D at 0x3fe8f50>,\n",
        " <matplotlib.lines.Line2D at 0x3fed190>]"
       ]
      },
      {
       "output_type": "display_data",
       "png": "[encoded data removed]"
      }
     ],
     "prompt_number": 19
    },
    {
     "cell_type": "code",
     "collapsed": false,
     "input": [
      "pie([1, 2, 3])"
     ],
     "language": "python",
     "metadata": {},
     "outputs": [
      {
       "output_type": "pyout",
       "prompt_number": 1,
       "text": [
        "([<matplotlib.patches.Wedge at 0x23a6990>,\n",
        "  <matplotlib.patches.Wedge at 0x23a6f50>,\n",
        "  <matplotlib.patches.Wedge at 0x23aa4d0>],\n",
        " [<matplotlib.text.Text at 0x23a6e50>,\n",
        "  <matplotlib.text.Text at 0x23aa410>,\n",
        "  <matplotlib.text.Text at 0x23aa910>])"
       ]
      },
      {
       "output_type": "display_data",
       "png": "[encoded data removed]"
      }
     ],
     "prompt_number": 1
    },
    {
     "cell_type": "code",
     "collapsed": false,
     "input": [
      "# By Armin Moser\n",
      "\n",
      "from mpl_toolkits.mplot3d import Axes3D\n",
      "import matplotlib\n",
      "import numpy as np\n",
      "from matplotlib import cm\n",
      "from matplotlib import pyplot as plt\n",
      "step = 0.04\n",
      "maxval = 1.0\n",
      "fig = plt.figure()\n",
      "ax = fig.add_subplot(111, projection='3d')\n",
      "\n",
      "# create supporting points in polar coordinates\n",
      "r = np.linspace(0,1.25,50)\n",
      "p = np.linspace(0,2*np.pi,50)\n",
      "R,P = np.meshgrid(r,p)\n",
      "# transform them to cartesian system\n",
      "X,Y = R*np.cos(P),R*np.sin(P)\n",
      "\n",
      "Z = ((R**2 - 1)**4)\n",
      "ax.plot_surface(X, Y, Z, rstride=1, cstride=1, cmap=cm.YlGnBu_r)\n",
      "ax.set_zlim3d(0, 1)\n",
      "ax.set_xlabel(r'$\\phi_\\mathrm{real}$')\n",
      "ax.set_ylabel(r'$\\phi_\\mathrm{im}$')\n",
      "ax.set_zlabel(r'$V(\\phi)$')\n",
      "plt.show()"
     ],
     "language": "python",
     "metadata": {},
     "outputs": [
      {
       "output_type": "display_data",
       "png": "[encoded data removed]"
      }
     ],
     "prompt_number": 9
    },
    {
     "cell_type": "heading",
     "level": 3,
     "metadata": {},
     "source": [
      "Ipython Notebook can also render Latex, if you're into that sort of thing"
     ]
    },
    {
     "cell_type": "markdown",
     "metadata": {},
     "source": [
      "$$\\[\n",
      "z \\left( 1 \\ +\\ \\sqrt{\\omega_{i+1} + \\zeta -\\frac{x+1}{\\Theta +1} y + 1} \n",
      "\\ \\right)\n",
      "\\ \\ \\ =\\ \\ \\ 1\n",
      "\\]$$\n",
      "\n",
      "$$\\begin{equation}\n",
      "\\left[\n",
      "{\\bf X} + {\\rm a} \\ \\geq\\ \n",
      "\\underline{\\hat a} \\sum_i^N \\lim_{x \\rightarrow k} \\delta C\n",
      "\\right]\n",
      "\\end{equation}$$"
     ]
    },
    {
     "cell_type": "heading",
     "level": 3,
     "metadata": {},
     "source": [
      "Parallel Execution"
     ]
    },
    {
     "cell_type": "code",
     "collapsed": false,
     "input": [
      "!ipcluster start -n 4"
     ],
     "language": "python",
     "metadata": {},
     "outputs": [
      {
       "output_type": "stream",
       "stream": "stdout",
       "text": [
        "2013-05-01 00:32:39,765.765 [IPClusterStart] Using existing profile dir: u'/home/ubuntu/.ipython/profile_default'\r\n",
        "2013-05-01 00:32:39.768 [IPClusterStart] Starting ipcluster with [daemon=False]\r\n",
        "2013-05-01 00:32:39.769 [IPClusterStart] Creating pid file: /home/ubuntu/.ipython/profile_default/pid/ipcluster.pid\r\n",
        "2013-05-01 00:32:39.769 [IPClusterStart] Starting Controller with LocalControllerLauncher\r\n"
       ]
      },
      {
       "output_type": "stream",
       "stream": "stdout",
       "text": [
        "2013-05-01 00:32:40.769 [IPClusterStart] Starting 4 Engines with LocalEngineSetLauncher\r\n"
       ]
      },
      {
       "output_type": "stream",
       "stream": "stdout",
       "text": [
        "^C\r\n",
        "2013-05-01 00:33:10.348 [IPClusterStart] IPython cluster: stopping\r\n",
        "2013-05-01 00:33:10.349 [IPClusterStart] Stopping Engines...\r\n",
        "2013-05-01 00:33:10.350 [IPClusterStart] Removing pid file: /home/ubuntu/.ipython/profile_default/pid/ipcluster.pid\r\n"
       ]
      }
     ],
     "prompt_number": 12
    },
    {
     "cell_type": "code",
     "collapsed": false,
     "input": [
      "from IPython.parallel import Client\n",
      "\n",
      "c = Client()\n",
      "\n",
      "# Create a view of the workers I wish to execute my function over\n",
      "view = c[:]\n",
      "\n",
      "# Execute a map of the function over this range and grab the last result\n",
      "view.map_sync(lambda x: x**7, range(1, 1000000))[-1]\n",
      "\n",
      "# While we wait, notice that I've crushed the dev machine I'm working on, both cores."
     ],
     "language": "python",
     "metadata": {},
     "outputs": [
      {
       "output_type": "pyout",
       "prompt_number": 28,
       "text": [
        "999993000020999965000034999979000006999999L"
       ]
      }
     ],
     "prompt_number": 28
    },
    {
     "cell_type": "markdown",
     "metadata": {},
     "source": [
      "Further Reading on Parallelization\n",
      "==================================\n",
      "Obviously that was a contrived example, there are a few, better examples of parallel execution in python\n",
      "\n",
      "- http://ipython.org/ipython-doc/dev/parallel/index.html#parallel-index (iPython, parallel docs)\n",
      "- http://ipython.org/ipython-doc/dev/parallel/parallel_demos.html (demos)"
     ]
    },
    {
     "cell_type": "heading",
     "level": 3,
     "metadata": {},
     "source": [
      "Sharing Your Beautiful Notebooks"
     ]
    },
    {
     "cell_type": "code",
     "collapsed": false,
     "input": [
      "# Installing nbconvert\n",
      "!pip install markdown\n",
      "!git clone git://github.com/ipython/nbconvert.git --recursive"
     ],
     "language": "python",
     "metadata": {},
     "outputs": [
      {
       "output_type": "stream",
       "stream": "stdout",
       "text": [
        "Downloading/unpacking markdown\r\n"
       ]
      },
      {
       "output_type": "stream",
       "stream": "stdout",
       "text": [
        "  Downloading Markdown-2.3.1.zip (374kB): \r",
        "  Downloading Markdown-2.3.1.zip (374kB):   1%  4.1kB\r",
        "  Downloading Markdown-2.3.1.zip (374kB):   2%  8.2kB\r",
        "  Downloading Markdown-2.3.1.zip (374kB):   3%  12kB \r",
        "  Downloading Markdown-2.3.1.zip (374kB):   4%  16kB\r",
        "  Downloading Markdown-2.3.1.zip (374kB):   5%  20kB"
       ]
      },
      {
       "output_type": "stream",
       "stream": "stdout",
       "text": [
        "\r",
        "  Downloading Markdown-2.3.1.zip (374kB):   6%  24kB\r",
        "  Downloading Markdown-2.3.1.zip (374kB):   7%  28kB\r",
        "  Downloading Markdown-2.3.1.zip (374kB):   8%  32kB\r",
        "  Downloading Markdown-2.3.1.zip (374kB):   9%  36kB"
       ]
      },
      {
       "output_type": "stream",
       "stream": "stdout",
       "text": [
        "\r",
        "  Downloading Markdown-2.3.1.zip (374kB):  10%  40kB\r",
        "  Downloading Markdown-2.3.1.zip (374kB):  12%  45kB\r",
        "  Downloading Markdown-2.3.1.zip (374kB):  13%  49kB\r",
        "  Downloading Markdown-2.3.1.zip (374kB):  14%  53kB\r",
        "  Downloading Markdown-2.3.1.zip (374kB):  15%  57kB\r",
        "  Downloading Markdown-2.3.1.zip (374kB):  16%  61kB\r",
        "  Downloading Markdown-2.3.1.zip (374kB):  17%  65kB\r",
        "  Downloading Markdown-2.3.1.zip (374kB):  18%  69kB"
       ]
      },
      {
       "output_type": "stream",
       "stream": "stdout",
       "text": [
        "\r",
        "  Downloading Markdown-2.3.1.zip (374kB):  19%  73kB\r",
        "  Downloading Markdown-2.3.1.zip (374kB):  20%  77kB\r",
        "  Downloading Markdown-2.3.1.zip (374kB):  21%  81kB\r",
        "  Downloading Markdown-2.3.1.zip (374kB):  22%  86kB\r",
        "  Downloading Markdown-2.3.1.zip (374kB):  24%  90kB\r",
        "  Downloading Markdown-2.3.1.zip (374kB):  25%  94kB\r",
        "  Downloading Markdown-2.3.1.zip (374kB):  26%  98kB\r",
        "  Downloading Markdown-2.3.1.zip (374kB):  27%  102kB"
       ]
      },
      {
       "output_type": "stream",
       "stream": "stdout",
       "text": [
        "\r",
        "  Downloading Markdown-2.3.1.zip (374kB):  28%  106kB\r",
        "  Downloading Markdown-2.3.1.zip (374kB):  29%  110kB\r",
        "  Downloading Markdown-2.3.1.zip (374kB):  30%  114kB\r",
        "  Downloading Markdown-2.3.1.zip (374kB):  31%  118kB\r",
        "  Downloading Markdown-2.3.1.zip (374kB):  32%  122kB\r",
        "  Downloading Markdown-2.3.1.zip (374kB):  33%  126kB\r",
        "  Downloading Markdown-2.3.1.zip (374kB):  35%  131kB\r",
        "  Downloading Markdown-2.3.1.zip (374kB):  36%  135kB"
       ]
      },
      {
       "output_type": "stream",
       "stream": "stdout",
       "text": [
        "\r",
        "  Downloading Markdown-2.3.1.zip (374kB):  37%  139kB\r",
        "  Downloading Markdown-2.3.1.zip (374kB):  38%  143kB\r",
        "  Downloading Markdown-2.3.1.zip (374kB):  39%  147kB\r",
        "  Downloading Markdown-2.3.1.zip (374kB):  40%  151kB\r",
        "  Downloading Markdown-2.3.1.zip (374kB):  41%  155kB\r",
        "  Downloading Markdown-2.3.1.zip (374kB):  42%  159kB\r",
        "  Downloading Markdown-2.3.1.zip (374kB):  43%  163kB\r",
        "  Downloading Markdown-2.3.1.zip (374kB):  44%  167kB\r",
        "  Downloading Markdown-2.3.1.zip (374kB):  45%  172kB\r",
        "  Downloading Markdown-2.3.1.zip (374kB):  47%  176kB\r",
        "  Downloading Markdown-2.3.1.zip (374kB):  48%  180kB\r",
        "  Downloading Markdown-2.3.1.zip (374kB):  49%  184kB"
       ]
      },
      {
       "output_type": "stream",
       "stream": "stdout",
       "text": [
        "\r",
        "  Downloading Markdown-2.3.1.zip (374kB):  50%  188kB\r",
        "  Downloading Markdown-2.3.1.zip (374kB):  51%  192kB\r",
        "  Downloading Markdown-2.3.1.zip (374kB):  52%  196kB\r",
        "  Downloading Markdown-2.3.1.zip (374kB):  53%  200kB"
       ]
      },
      {
       "output_type": "stream",
       "stream": "stdout",
       "text": [
        "\r",
        "  Downloading Markdown-2.3.1.zip (374kB):  54%  204kB\r",
        "  Downloading Markdown-2.3.1.zip (374kB):  55%  208kB\r",
        "  Downloading Markdown-2.3.1.zip (374kB):  56%  212kB\r",
        "  Downloading Markdown-2.3.1.zip (374kB):  58%  217kB\r",
        "  Downloading Markdown-2.3.1.zip (374kB):  59%  221kB\r",
        "  Downloading Markdown-2.3.1.zip (374kB):  60%  225kB\r",
        "  Downloading Markdown-2.3.1.zip (374kB):  61%  229kB\r",
        "  Downloading Markdown-2.3.1.zip (374kB):  62%  233kB\r",
        "  Downloading Markdown-2.3.1.zip (374kB):  63%  237kB\r",
        "  Downloading Markdown-2.3.1.zip (374kB):  64%  241kB\r",
        "  Downloading Markdown-2.3.1.zip (374kB):  65%  245kB\r",
        "  Downloading Markdown-2.3.1.zip (374kB):  66%  249kB\r",
        "  Downloading Markdown-2.3.1.zip (374kB):  67%  253kB\r",
        "  Downloading Markdown-2.3.1.zip (374kB):  68%  258kB\r",
        "  Downloading Markdown-2.3.1.zip (374kB):  70%  262kB\r",
        "  Downloading Markdown-2.3.1.zip (374kB):  71%  266kB"
       ]
      },
      {
       "output_type": "stream",
       "stream": "stdout",
       "text": [
        "\r",
        "  Downloading Markdown-2.3.1.zip (374kB):  72%  270kB\r",
        "  Downloading Markdown-2.3.1.zip (374kB):  73%  274kB\r",
        "  Downloading Markdown-2.3.1.zip (374kB):  74%  278kB\r",
        "  Downloading Markdown-2.3.1.zip (374kB):  75%  282kB\r",
        "  Downloading Markdown-2.3.1.zip (374kB):  76%  286kB\r",
        "  Downloading Markdown-2.3.1.zip (374kB):  77%  290kB\r",
        "  Downloading Markdown-2.3.1.zip (374kB):  78%  294kB\r",
        "  Downloading Markdown-2.3.1.zip (374kB):  79%  299kB\r",
        "  Downloading Markdown-2.3.1.zip (374kB):  81%  303kB\r",
        "  Downloading Markdown-2.3.1.zip (374kB):  82%  307kB\r",
        "  Downloading Markdown-2.3.1.zip (374kB):  83%  311kB\r",
        "  Downloading Markdown-2.3.1.zip (374kB):  84%  315kB\r",
        "  Downloading Markdown-2.3.1.zip (374kB):  85%  319kB\r",
        "  Downloading Markdown-2.3.1.zip (374kB):  86%  323kB\r",
        "  Downloading Markdown-2.3.1.zip (374kB):  87%  327kB\r",
        "  Downloading Markdown-2.3.1.zip (374kB):  88%  331kB"
       ]
      },
      {
       "output_type": "stream",
       "stream": "stdout",
       "text": [
        "\r",
        "  Downloading Markdown-2.3.1.zip (374kB):  89%  335kB\r",
        "  Downloading Markdown-2.3.1.zip (374kB):  90%  339kB\r",
        "  Downloading Markdown-2.3.1.zip (374kB):  91%  344kB\r",
        "  Downloading Markdown-2.3.1.zip (374kB):  93%  348kB\r",
        "  Downloading Markdown-2.3.1.zip (374kB):  94%  352kB\r",
        "  Downloading Markdown-2.3.1.zip (374kB):  95%  356kB\r",
        "  Downloading Markdown-2.3.1.zip (374kB):  96%  360kB\r",
        "  Downloading Markdown-2.3.1.zip (374kB):  97%  364kB\r",
        "  Downloading Markdown-2.3.1.zip (374kB):  98%  368kB\r",
        "  Downloading Markdown-2.3.1.zip (374kB):  99%  372kB\r",
        "  Downloading Markdown-2.3.1.zip (374kB): 100%  374kB\r",
        "  Downloading Markdown-2.3.1.zip (374kB):            \r",
        "  Downloading Markdown-2.3.1.zip (374kB): 374kB downloaded\r\n"
       ]
      },
      {
       "output_type": "stream",
       "stream": "stdout",
       "text": [
        "  Running setup.py egg_info for package markdown\r\n"
       ]
      },
      {
       "output_type": "stream",
       "stream": "stdout",
       "text": [
        "    \r\n"
       ]
      },
      {
       "output_type": "stream",
       "stream": "stdout",
       "text": [
        "Installing collected packages: markdown\r\n",
        "  Running setup.py install for markdown\r\n"
       ]
      },
      {
       "output_type": "stream",
       "stream": "stdout",
       "text": [
        "    changing mode of build/scripts-2.7/markdown_py from 664 to 775\r\n"
       ]
      },
      {
       "output_type": "stream",
       "stream": "stdout",
       "text": [
        "    Converting docs/reference.txt -> build/docs/reference.html\r\n",
        "    Converting docs/authors.txt -> build/docs/authors.html\r\n",
        "    Converting docs/release-2.0.txt -> build/docs/release-2.0.html\r\n"
       ]
      },
      {
       "output_type": "stream",
       "stream": "stdout",
       "text": [
        "    Converting docs/siteindex.txt -> build/docs/siteindex.html\r\n",
        "    Converting docs/release-2.1.1.txt -> build/docs/release-2.1.1.html\r\n",
        "    Converting docs/release-2.3.txt -> build/docs/release-2.3.html\r\n",
        "    Converting docs/install.txt -> build/docs/install.html\r\n",
        "    Converting docs/release-2.0.2.txt -> build/docs/release-2.0.2.html\r\n",
        "    Converting docs/cli.txt -> build/docs/cli.html\r\n"
       ]
      },
      {
       "output_type": "stream",
       "stream": "stdout",
       "text": [
        "    Converting docs/release-2.2.1.txt -> build/docs/release-2.2.1.html\r\n",
        "    Converting docs/index.txt -> build/docs/index.html\r\n",
        "    Converting docs/release-2.1.0.txt -> build/docs/release-2.1.0.html\r\n",
        "    Converting docs/release-2.0.1.txt -> build/docs/release-2.0.1.html\r\n",
        "    Converting docs/change_log.txt -> build/docs/change_log.html\r\n"
       ]
      },
      {
       "output_type": "stream",
       "stream": "stdout",
       "text": [
        "    Converting docs/test_suite.txt -> build/docs/test_suite.html\r\n",
        "    Converting docs/release-2.2.0.txt -> build/docs/release-2.2.0.html\r\n",
        "    Converting docs/extensions/definition_lists.txt -> build/docs/extensions/definition_lists.html\r\n",
        "    Converting docs/extensions/meta_data.txt -> build/docs/extensions/meta_data.html\r\n",
        "    Converting docs/extensions/code_hilite.txt -> build/docs/extensions/code_hilite.html\r\n",
        "    Converting docs/extensions/nl2br.txt -> build/docs/extensions/nl2br.html\r\n"
       ]
      },
      {
       "output_type": "stream",
       "stream": "stdout",
       "text": [
        "    Converting docs/extensions/sane_lists.txt -> build/docs/extensions/sane_lists.html\r\n",
        "    Converting docs/extensions/fenced_code_blocks.txt -> build/docs/extensions/fenced_code_blocks.html\r\n"
       ]
      },
      {
       "output_type": "stream",
       "stream": "stdout",
       "text": [
        "    Converting docs/extensions/header_id.txt -> build/docs/extensions/header_id.html\r\n",
        "    Converting docs/extensions/extra.txt -> build/docs/extensions/extra.html\r\n",
        "    Converting docs/extensions/smart_strong.txt -> build/docs/extensions/smart_strong.html\r\n",
        "    Converting docs/extensions/abbreviations.txt -> build/docs/extensions/abbreviations.html\r\n",
        "    Converting docs/extensions/wikilinks.txt -> build/docs/extensions/wikilinks.html\r\n"
       ]
      },
      {
       "output_type": "stream",
       "stream": "stdout",
       "text": [
        "    Converting docs/extensions/index.txt -> build/docs/extensions/index.html\r\n",
        "    Converting docs/extensions/attr_list.txt -> build/docs/extensions/attr_list.html\r\n",
        "    Converting docs/extensions/footnotes.txt -> build/docs/extensions/footnotes.html\r\n",
        "    Converting docs/extensions/toc.txt -> build/docs/extensions/toc.html\r\n"
       ]
      },
      {
       "output_type": "stream",
       "stream": "stdout",
       "text": [
        "    Converting docs/extensions/api.txt -> build/docs/extensions/api.html\r\n",
        "    Converting docs/extensions/admonition.txt -> build/docs/extensions/admonition.html\r\n",
        "    Converting docs/extensions/tables.txt -> build/docs/extensions/tables.html\r\n"
       ]
      },
      {
       "output_type": "stream",
       "stream": "stdout",
       "text": [
        "    \r\n"
       ]
      },
      {
       "output_type": "stream",
       "stream": "stdout",
       "text": [
        "    changing mode of /home/ubuntu/my-news-api/venv/bin/markdown_py to 775\r\n",
        "Successfully installed markdown\r\n",
        "Cleaning up...\r\n"
       ]
      },
      {
       "output_type": "stream",
       "stream": "stdout",
       "text": [
        "fatal: destination path 'nbconvert' already exists and is not an empty directory.\r\n"
       ]
      }
     ],
     "prompt_number": 31
    },
    {
     "cell_type": "code",
     "collapsed": false,
     "input": [
      "!ls\n",
      "!nbconvert/nbconvert.py \"iPython Notebook Lunch Talk.ipynb\" > lunch.html"
     ],
     "language": "python",
     "metadata": {},
     "outputs": [
      {
       "output_type": "stream",
       "stream": "stdout",
       "text": [
        "circle.yml\t\t install.sh\t\t\t    manage.py\t\t  mynews\t  README.md\t\t   Subject Breakdown.ipynb  Update Email.ipynb\t\t     user_profiles\r\n",
        "docs\t\t\t iPython Notebook Lunch Talk.ipynb  manage.sh\t\t  nbconvert\t  #requirements.txt#\t   Subjects Stats.ipynb     URL list.ipynb\t\t     venv\r\n",
        "Facebook Pictures.ipynb  lunch.html\t\t\t    media_assets\t  newrelic.ini\t  requirements.txt\t   Travis - Email.ipynb     User and Engagement Stats.ipynb\r\n",
        "icons\t\t\t Lunch.ipynb\t\t\t    Missing Topics.ipynb  raw_story_html  Story Experiments.ipynb  Uniquify Stories.ipynb   Username Migration.ipynb\r\n"
       ]
      },
      {
       "output_type": "stream",
       "stream": "stdout",
       "text": [
        "Traceback (most recent call last):\r\n",
        "  File \"nbconvert/nbconvert.py\", line 127, in <module>\r\n",
        "    main()\r\n",
        "  File \"nbconvert/nbconvert.py\", line 112, in main\r\n",
        "    app.run()\r\n",
        "  File \"nbconvert/nbconvert.py\", line 98, in run\r\n",
        "    converter.render()\r\n",
        "  File \"/home/ubuntu/my-news-api/nbconvert/converters/base.py\", line 225, in render\r\n",
        "    self.output = self.convert()\r\n",
        "  File \"/home/ubuntu/my-news-api/nbconvert/converters/base.py\", line 205, in convert\r\n",
        "    lines.extend(self.main_body(cell_separator))\r\n",
        "  File \"/home/ubuntu/my-news-api/nbconvert/converters/base.py\", line 217, in main_body\r\n",
        "    converted_cells.append('\\n'.join(conv_fn(cell)))\r\n",
        "  File \"/home/ubuntu/my-news-api/nbconvert/converters/rst.py\", line 60, in render_markdown\r\n",
        "    return [markdown2rst(cell.source)]\r\n",
        "  File \"/home/ubuntu/my-news-api/nbconvert/converters/utils.py\", line 258, in markdown2rst\r\n",
        "    stdin=subprocess.PIPE, stdout=subprocess.PIPE)\r\n",
        "  File \"/usr/lib/python2.7/subprocess.py\", line 679, in __init__\r\n",
        "    errread, errwrite)\r\n",
        "  File \"/usr/lib/python2.7/subprocess.py\", line 1249, in _execute_child\r\n",
        "    raise child_exception\r\n",
        "OSError: [Errno 2] No such file or directory\r\n"
       ]
      }
     ],
     "prompt_number": 35
    },
    {
     "cell_type": "markdown",
     "metadata": {},
     "source": [
      "Further Reading\n",
      "---------------\n",
      "1. http://ipython.org/ipython-doc/dev/overview.html\n",
      "\n",
      "Other Cool Talks\n",
      "----------------\n",
      "1. http://nbviewer.ipython.org/5165431\n",
      "2. http://pages.physics.cornell.edu/~myers/teaching/ComputationalMethods/python/ipython.html\n",
      "3. https://github.com/ipython/talks"
     ]
    },
    {
     "cell_type": "code",
     "collapsed": false,
     "input": [],
     "language": "python",
     "metadata": {},
     "outputs": []
    }
   ],
   "metadata": {}
  }
 ]
}